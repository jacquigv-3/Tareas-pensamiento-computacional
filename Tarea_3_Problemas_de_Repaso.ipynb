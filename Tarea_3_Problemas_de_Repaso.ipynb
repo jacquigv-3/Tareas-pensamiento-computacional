{
  "nbformat": 4,
  "nbformat_minor": 0,
  "metadata": {
    "colab": {
      "provenance": []
    },
    "kernelspec": {
      "name": "python3",
      "display_name": "Python 3"
    },
    "language_info": {
      "name": "python"
    }
  },
  "cells": [
    {
      "cell_type": "markdown",
      "source": [
        "# Tarea 3: Problemas de Repaso\n",
        "\n",
        "- Por Jacqueline Gallegos Vázquez"
      ],
      "metadata": {
        "id": "YYsC61AIHIiO"
      }
    },
    {
      "cell_type": "markdown",
      "source": [
        "## Ejercicio 1: Sistema de Pedido a Domicilio"
      ],
      "metadata": {
        "id": "ZJtRUw4aaRVr"
      }
    },
    {
      "cell_type": "code",
      "execution_count": 1,
      "metadata": {
        "colab": {
          "base_uri": "https://localhost:8080/"
        },
        "id": "BFCCym0nv0Sq",
        "outputId": "b49a48d9-c4a5-46c0-c5db-f43f614e0337"
      },
      "outputs": [
        {
          "output_type": "stream",
          "name": "stdout",
          "text": [
            "\n",
            " Bienvenido al sistema de pedido a domicilio.\n",
            " -----------------\n",
            "  1. Pizza - $10\n",
            "  2. Hambueguesa - $8\n",
            "  3. Ensalada - $7\n",
            "  0. Finzalizar pedido\n",
            "  ----------------\n",
            "Introduce el número deseado: 3\n",
            "Añadiste ensalada a tu pedido. Total actual: $ 7\n",
            "¿Deseas seguir con el pedido? (si/no)si\n",
            "Introduce el número deseado: 4\n",
            "Error, intente de nuevo. Por favor elige un número de la lista\n",
            "¿Deseas seguir con el pedido? (si/no)no\n",
            "El total de su pedido es: 7\n",
            "Gracias por su pedido. Provecho\n"
          ]
        }
      ],
      "source": [
        "# --- Sistema de Pedido a Domicilio ---\n",
        "\n",
        "# Se inicia con una variable 'total' en 0.\n",
        "# Esta variable acumulará el costo total del pedido.total = 0\n",
        "total = 0\n",
        "\n",
        "# Se imprime el menú de bienvenida.\n",
        "# Las triples comillas (\"\"\") permiten crear un string (texto)\n",
        "# que abarca múltiples líneas.\n",
        "print(\"\"\"\n",
        " Bienvenido al sistema de pedido a domicilio.\n",
        " -----------------\n",
        "  1. Pizza - $10\n",
        "  2. Hambueguesa - $8\n",
        "  3. Ensalada - $7\n",
        "  0. Finzalizar pedido\n",
        "  ----------------\"\"\")\n",
        "\n",
        "# Se inicia un bucle \"while true\"\n",
        "while True:\n",
        "  # 1. input() muestra el mensaje y espera que el usuario escriba algo.\n",
        "  # 2. int() convierte la entrada del usuario (que es texto) a un número entero.\n",
        "  # 3. El resultado se guarda en la variable 'eleccion'.\n",
        "  eleccion = int(input(\"Introduce el número deseado: \"))\n",
        "\n",
        "  # Se inicia una estructura 'match...case'.\n",
        "  # Compara el valor de la variable 'eleccion' con los siguientes 'case'.\n",
        "  match eleccion:\n",
        "    # Si 'eleccion' es igual a 1:\n",
        "    case 1:\n",
        "      # Imprime un mensaje\n",
        "      # (Nota: 'total + 10' solo *muestra* el resultado, pero aún no actualiza la variable 'total').\n",
        "      print (\"Añadiste pizza a tu pedido. Total actual: $\",total + 10)\n",
        "      # Actualiza (acumula) el 'total'.\n",
        "      total += 10 # 'total += 10' es un atajo para 'total = total + 10'.\n",
        "\n",
        "    case 2:\n",
        "      print (\"Añadiste hamburguesa a tu pedido. Total actual: $\",total + 8)\n",
        "      total += 8 #Suma 8 al 'total' acumulado.\n",
        "\n",
        "    case 3:\n",
        "      print (\"Añadiste ensalada a tu pedido. Total actual: $\",total + 7)\n",
        "      total += 7 #Suma 7 al 'total' acumulado.\n",
        "\n",
        "    case 0: # Imprime el total final usando un f-string.\n",
        "      print(f\"Total del pedido es: {total} gracias por su compra\")\n",
        "\n",
        "      break # 'break' es la instrucción que detiene el bucle 'while True'.\n",
        "\n",
        "    case _: # Se ejecuta si 'eleccion' no coincide con ninguno de los casos anteriores\n",
        "      print(\"Error, intente de nuevo. Por favor elige un número de la lista\")\n",
        "\n",
        "# ----------\n",
        "# Este 'if' se ejecuta después del 'match', pero únicamente si la 'eleccion' no fue 0\n",
        "# (porque si hubiera sido 0, el 'break' ya habría terminado el bucle).\n",
        "  if eleccion != 0:\n",
        "    # Pregunta al usuario si desea añadir más productos.\n",
        "    seguir = input(\"¿Deseas seguir con el pedido? (si/no)\")\n",
        "\n",
        "    # Aqui se comprueba si la respuesta del usuario fue exactamente \"no\".\n",
        "    if seguir == \"no\":\n",
        "\n",
        "      # Si dijo \"no\", imprime el total final.\n",
        "      print(f\"El total de su pedido es: {total}\")\n",
        "      print(\"Gracias por su pedido. Provecho\")\n",
        "      break # 'break' sirve para detener el bucle 'while True' y finalizar el pedido.\n"
      ]
    },
    {
      "cell_type": "markdown",
      "source": [
        "## Ejercicio 2: Promedio de Tiempos en Redes Sociales\n"
      ],
      "metadata": {
        "id": "dUecm3iIHMwR"
      }
    },
    {
      "cell_type": "code",
      "source": [
        "# Creamos una lista llamada 'tiempos' que contiene\n",
        "# 6 valores numéricos (flotantes y enteros).\n",
        "tiempos = [2,1.5,2.5,3,1,4]\n",
        "\n",
        "# Se define una función llamada \"promedio\"\n",
        "def promedio(tiempos):\n",
        "  # len() obtiene la longitud (cantidad de elementos) de la lista.\n",
        "  # Comprueba si la lista está vacía (longitud == 0).\n",
        "  if len(tiempos) == 0:\n",
        "    # Si está vacía, retorna 0 (para evitar un error de división por cero).\n",
        "    return(0)\n",
        "  # Si la lista no está vacía\n",
        "  else:\n",
        "    # 1. sum(tiempos) suma todos los valores de la lista.\n",
        "    # 2. len(tiempos) cuenta cuántos elementos hay (en este caso, 6).\n",
        "    # 3. Retorna el resultado de la división (suma / cantidad).\n",
        "    return sum(tiempos) / len(tiempos)\n",
        "\n",
        "\n",
        "# Se crea la variable prom_h y se guarda el promedio.\n",
        "prom_h = promedio(tiempos) # Llama a la función 'promedio' y le pasa la lista 'tiempos'.\n",
        "# Mostramos el resultado\n",
        "print(f\"El tiempo promedio diario en redes sociales es de {prom_h:.2f} horas\")\n",
        "\n",
        "#--- Conversión a Min ---\n",
        "\n",
        "# Se define una función 'lambda' (una función anónima, pequeña y de una sola línea).\n",
        "# 1. 'h_min' es el nombre que le damos a esta función lambda.\n",
        "# 2. 'lambda min:' indica que la función recibe un argumento.\n",
        "# 3. 'min * 60' es la operación que realiza y retorna (horas * 60).\n",
        "h_min = lambda hrs: hrs * 60\n",
        "\n",
        "# Llama a la función lambda 'h_min' y le pasa el promedio en horas ('prom_h').\n",
        "# El resultado (minutos) se guarda en la variable 'prom_m'.\n",
        "prom_m = h_min(prom_h)\n",
        "\n",
        "# Imprime el resultado final en minutos.\n",
        "print(f\"El tiempo promedio diario en redes sociales es de {prom_m} minutos por día\")"
      ],
      "metadata": {
        "colab": {
          "base_uri": "https://localhost:8080/"
        },
        "id": "ImvRM-OqHPQb",
        "outputId": "cf576da3-302b-4412-9010-5bc08a3de654"
      },
      "execution_count": 4,
      "outputs": [
        {
          "output_type": "stream",
          "name": "stdout",
          "text": [
            "El tiempo promedio diario en redes sociales es de 2.33 horas\n",
            "El tiempo promedio diario en redes sociales es de 140.0 minutos por día\n"
          ]
        }
      ]
    }
  ]
}