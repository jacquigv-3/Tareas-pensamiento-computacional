{
  "nbformat": 4,
  "nbformat_minor": 0,
  "metadata": {
    "colab": {
      "provenance": []
    },
    "kernelspec": {
      "name": "python3",
      "display_name": "Python 3"
    },
    "language_info": {
      "name": "python"
    }
  },
  "cells": [
    {
      "cell_type": "markdown",
      "source": [
        "# Tarea 2: Problemas que Utilizan Funciones\n",
        "\n",
        "- Por Jacqueline Gallegos Vázquez"
      ],
      "metadata": {
        "id": "bkcjWiwIQERV"
      }
    },
    {
      "cell_type": "markdown",
      "source": [
        "## 1. Convertidor a Centímetros\n",
        "Este script presenta un menú para convertir una cantidad dada de pies, pulgadas o yardas a centímetros."
      ],
      "metadata": {
        "id": "raaDDxZmQPcH"
      }
    },
    {
      "cell_type": "code",
      "execution_count": 4,
      "metadata": {
        "id": "BUlaqsik6Eyk",
        "colab": {
          "base_uri": "https://localhost:8080/"
        },
        "outputId": "8a092371-f5f8-47b7-c261-2b6b3e031b49"
      },
      "outputs": [
        {
          "output_type": "stream",
          "name": "stdout",
          "text": [
            "Ingresa un número del 1 al 3: 2\n",
            "Ingresa la cantidad a convertir: 12\n",
            "12 pulgadas equivale a 30.5 cm\n"
          ]
        }
      ],
      "source": [
        "# Covertidor a centímetros ejercicio 1\n",
        "\n",
        "# Definimos las funciones de conversión.\n",
        "\n",
        "def pies_cm(valor):\n",
        "  cm = valor * 30.48\n",
        "  return cm\n",
        "\n",
        "def pulgadas_cm(valor):\n",
        "  cm = valor * 2.54\n",
        "  return cm\n",
        "\n",
        "def yardas_cm(valor):\n",
        "  cm = valor * 91.44\n",
        "  return cm\n",
        "\n",
        "# --- Lógica Principal del programa ---\n",
        "\n",
        "# Pide al usuario que elija una opción del 1 al 3.\n",
        "convertidor = int(input(\"Ingresa un número del 1 al 3: \"))\n",
        "\n",
        "# Con este if se validara la elección anterior\n",
        "\n",
        "## Si el valor elegido no es ni 1, 2 o 3 la opción será invalida.\n",
        "if convertidor not in (1,2,3):\n",
        "    print(\"Error\")\n",
        "else:\n",
        "    # Si la opción es válida (1, 2 o 3),\n",
        "    # el programa pide la cantidad a convertir.\n",
        "    cantidad = int(input(\"Ingresa la cantidad a convertir: \"))\n",
        "\n",
        "# --- Bloque de conversión ---\n",
        "## Lo siguiente solo se ejecuta si la opción fue valida\n",
        "## ya que esta DENTRO del \"else\".\n",
        "\n",
        "    if convertidor == 1:\n",
        "      # Llama a la función \"pies_cm\" pasandole la cantidad con un formato de un decimal.\n",
        "      print(f\"{cantidad} pies equivale a {pies_cm(cantidad):.1f} cm\")\n",
        "\n",
        "    elif convertidor == 2:\n",
        "      # Llama a la función \"pulgadas_cm\" pasandole la cantidad con un formato de un decimal.\n",
        "      print(f\"{cantidad} pulgadas equivale a {pulgadas_cm(cantidad):.1f} cm\")\n",
        "\n",
        "    elif convertidor == 3:\n",
        "      # Llama a la función \"yardas_cm\" pasandole la cantidad con un formato de un decimal.\n",
        "      print(f\"{cantidad} yardas equivale a {yardas_cm(cantidad):.1f} cm\")\n",
        "      print(f\"{cantidad} yardas equivale a {yardas_cm(cantidad):.1f} cm\")"
      ]
    },
    {
      "cell_type": "markdown",
      "source": [
        "## 2. Área y Volumen de un Cilindro\n",
        "Este script calcula el área superficial total y el volumen de un cilindro basándose en el radio y la altura proporcionados por el usuario."
      ],
      "metadata": {
        "id": "CffvlaJUV1Cu"
      }
    },
    {
      "cell_type": "code",
      "source": [
        "#Cilindro área volumen\n",
        "\n",
        "# Se define la constante global para \"pi\".\n",
        "pi = 3.1416\n",
        "\n",
        "# --- Definición de funciones de cálculo\n",
        "\n",
        "def area_cilindro(r,h):\n",
        "  # Fórmula del área total: (a de 2 tapas circulares) + (a de superficie lateral)\n",
        "  area = 2*pi*r*(r+h)\n",
        "  return area\n",
        "\n",
        "def volumen_cilindro(r,h):\n",
        "  #Fórmula del volumen: (a de base circular) * (altura)\n",
        "  volumen = pi*r**2*h\n",
        "  return volumen\n",
        "\n",
        "# -- Entrada de Datos ---\n",
        "# Pide al usuario el radio y la altura, convirtiéndolos a decimal (float).\n",
        "radio = float(input(\"Ingrese el valor del radio: \"))\n",
        "altura=float(input(\"Ingrese el valor de la altura: \"))\n",
        "\n",
        "# Ejecución de cálculos\n",
        "# Llama a las funciones con los valores del usuario y guarda los resultados.\n",
        "valor_area= area_cilindro(radio,altura)\n",
        "valor_vol=volumen_cilindro(radio,altura)\n",
        "\n",
        "# --- Salida de Resultados ---\n",
        "print(f\"El área es igual a {valor_area:.2f}\")\n",
        "print(f\"El volumen es igual a {valor_vol:.2f}\")"
      ],
      "metadata": {
        "id": "j-JWFzafIdrl",
        "colab": {
          "base_uri": "https://localhost:8080/"
        },
        "outputId": "6ffa8f1d-cf7a-4a61-fbce-54ae5b23c24b"
      },
      "execution_count": 6,
      "outputs": [
        {
          "output_type": "stream",
          "name": "stdout",
          "text": [
            "Ingrese el valor del radio: 23\n",
            "Ingrese el valor de la altura: 123\n",
            "El área es igual a 21098.99\n",
            "El volumen es igual a 204414.49\n"
          ]
        }
      ]
    },
    {
      "cell_type": "markdown",
      "source": [
        "## 3. Calculadora de Calificación (Score)\n",
        "Este script toma una puntuación numérica (entre 0.0 y 1.0) y la convierte en una calificación de letra (A, B, C, D, F)."
      ],
      "metadata": {
        "id": "wYMy979FWr2x"
      }
    },
    {
      "cell_type": "code",
      "source": [
        "#Calcula Grado\n",
        "\n",
        "def calcula_grado(score):\n",
        "### Convierte \"score\" a una calificación en letra.\n",
        "\n",
        "# Validación: comprueba que este en el rango valido.\n",
        "  if score < 0 or score > 1:\n",
        "    return \"score incorrecta\" # Devuelve error y termina.\n",
        "\n",
        "# Ya que tenemos un valor valido, pasamos a la lógica de calificación.\n",
        "  # Si es mayor que 0.9 (ej: 0.95), es \"A\".\n",
        "  elif score > 0.9:\n",
        "    return \"A\"\n",
        "  # Si NO fue mayor que 0.9, pero es mayor que 0.8, es \"B\".\n",
        "  elif score > 0.8:\n",
        "    return \"B\"\n",
        "  # Si NO fue mayor que 0.8, pero es mayor que 0.7, es \"C\".\n",
        "  elif score > 0.7:\n",
        "    return \"C\"\n",
        "  # Si NO fue mayor que 0.7, pero es mayor que 0.6, es \"D\n",
        "  elif score > 0.6:\n",
        "    return \"D\"\n",
        "  # Si no cumplió ninguna de las condiciones anteriores (significa que\n",
        "  # el 'score' es <= 0.6), entonces es \"F\"\n",
        "  else:\n",
        "    return \"F\"\n",
        "\n",
        "# -- Lógica principal --\n",
        "\n",
        "# Pide al usuario el score y lo convierte a decimal (float).\n",
        "score_usuario= float(input(\"Ingrese el valor del score obtenido: \"))\n",
        "\n",
        "# Llama a la función con el valor del usuario.\n",
        "nota=calcula_grado(score_usuario)\n",
        "\n",
        "# Muestra el resultado\n",
        "print(nota)"
      ],
      "metadata": {
        "colab": {
          "base_uri": "https://localhost:8080/"
        },
        "id": "GgnriYhqu8Fv",
        "outputId": "d4069248-6ed2-4491-da6f-ca076c74f028"
      },
      "execution_count": 9,
      "outputs": [
        {
          "output_type": "stream",
          "name": "stdout",
          "text": [
            "Ingrese el valor del score obtenido: 1\n",
            "A\n"
          ]
        }
      ]
    }
  ]
}